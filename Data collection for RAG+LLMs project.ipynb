{
  "cells": [
    {
      "cell_type": "code",
      "execution_count": null,
      "metadata": {
        "id": "sof2YQmKyEwF"
      },
      "outputs": [],
      "source": [
        "!pip install pytube\n",
        "!pip install moviepy"
      ]
    },
    {
      "cell_type": "code",
      "execution_count": null,
      "metadata": {
        "id": "JRQk3tx2diMQ"
      },
      "outputs": [],
      "source": [
        "import json\n",
        "import requests\n",
        "\n",
        "def get_all_video_in_channel(channel_id, api_key):\n",
        "    base_video_url = 'https://www.youtube.com/watch?v='\n",
        "    base_search_url = 'https://www.googleapis.com/youtube/v3/search?'\n",
        "\n",
        "    first_url = base_search_url+'key={}&channelId={}&part=snippet,id&order=date&maxResults=25'.format(api_key, channel_id)\n",
        "\n",
        "    video_links = []\n",
        "    url = first_url\n",
        "    while True:\n",
        "        resp = requests.get(url)\n",
        "        resp_json = resp.json()\n",
        "\n",
        "        for i in resp_json['items']:\n",
        "            if i['id']['kind'] == \"youtube#video\":\n",
        "                video_links.append(base_video_url + i['id']['videoId'])\n",
        "\n",
        "        try:\n",
        "            next_page_token = resp_json['nextPageToken']\n",
        "            url = first_url + '&pageToken={}'.format(next_page_token)\n",
        "        except KeyError:\n",
        "            break\n",
        "    return video_links\n"
      ]
    },
    {
      "cell_type": "code",
      "execution_count": null,
      "metadata": {
        "id": "sX5VKrcicxwB"
      },
      "outputs": [],
      "source": [
        "channel_id = 'UCHCZnC9akNA9pBP7aJGNKdg'\n",
        "youtube_api_key = ''\n",
        "videos = get_all_video_in_channel(channel_id, youtube_api_key)"
      ]
    },
    {
      "cell_type": "code",
      "source": [
        "videos[5]"
      ],
      "metadata": {
        "colab": {
          "base_uri": "https://localhost:8080/",
          "height": 36
        },
        "id": "pb1NWbdPzoL4",
        "outputId": "d261310b-97b8-45fb-8c08-1bdfdd8bcdbd"
      },
      "execution_count": null,
      "outputs": [
        {
          "output_type": "execute_result",
          "data": {
            "text/plain": [
              "'https://www.youtube.com/watch?v=kUTfaVLPOiw'"
            ],
            "application/vnd.google.colaboratory.intrinsic+json": {
              "type": "string"
            }
          },
          "metadata": {},
          "execution_count": 50
        }
      ]
    },
    {
      "cell_type": "code",
      "execution_count": null,
      "metadata": {
        "id": "SBO97LSdwdac"
      },
      "outputs": [],
      "source": [
        "from pytube import YouTube\n",
        "import moviepy.editor as mp\n",
        "from tqdm import tqdm\n",
        "\n",
        "def get_audio_from_youtube_video(url, output_file_path):\n",
        "    # Create a YouTube object\n",
        "    yt = YouTube(url)\n",
        "\n",
        "    # Select the audio stream (.first() is for choosing the best stream)\n",
        "    audio_stream = yt.streams.filter(only_audio=True).first()\n",
        "\n",
        "    # Download the audio stream to a temporary .mp4 file\n",
        "    audio_stream.download(filename='temporary_audio_file.mp4')\n",
        "\n",
        "    # Convert the downloaded file to .mp3\n",
        "    converted_clip = mp.AudioFileClip('temporary_audio_file.mp4')\n",
        "    converted_clip.write_audiofile(output_file_path)\n",
        "\n",
        "    # Remove the temporary .mp4 file\n",
        "    converted_clip.close()"
      ]
    },
    {
      "cell_type": "code",
      "source": [
        "i = 1\n",
        "for video in tqdm(videos, desc='Downloading'):\n",
        "    try:\n",
        "        output_path = f'{YOUR_OUTPUT_DIRECTORY}/audio_{i}.mp3'\n",
        "        download_youtube_audio(video, output_path)\n",
        "        i += 1\n",
        "    except:\n",
        "        pass"
      ],
      "metadata": {
        "id": "Q5PFAwSF9b5t"
      },
      "execution_count": null,
      "outputs": []
    },
    {
      "cell_type": "code",
      "execution_count": null,
      "metadata": {
        "id": "Jc5a7hXAuNGO"
      },
      "outputs": [],
      "source": [
        "from transformers import pipeline\n",
        "import re\n",
        "\n",
        "pipe = pipeline(\"automatic-speech-recognition\", model=\"openai/whisper-small\")"
      ]
    },
    {
      "cell_type": "code",
      "execution_count": null,
      "metadata": {
        "id": "hMb9Nycsb81e"
      },
      "outputs": [],
      "source": [
        "import glob\n",
        "\n",
        "# Gathering audio files for transcription\n",
        "audios = glob.glob('YOUR_PATH_TO_AUDIO_FILES/*')\n",
        "\n",
        "transcripts_dir = 'DIR_TO_TRANSRIPTS'\n",
        "i = 1\n",
        "for audio in tqdm(audios, desc='Processing'):\n",
        "    transcript = pipe(video)\n",
        "    with open(f'{transcripts_dir}/transcript_{i}.txt', 'w') as f:\n",
        "        f.write(transcript['text'])\n",
        "    i += 1"
      ]
    }
  ],
  "metadata": {
    "colab": {
      "provenance": []
    },
    "kernelspec": {
      "display_name": "Python 3",
      "name": "python3"
    },
    "language_info": {
      "name": "python"
    }
  },
  "nbformat": 4,
  "nbformat_minor": 0
}